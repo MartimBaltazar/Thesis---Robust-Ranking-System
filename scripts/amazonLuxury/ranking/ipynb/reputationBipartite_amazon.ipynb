{
 "cells": [
  {
   "cell_type": "markdown",
   "metadata": {},
   "source": [
    "**Explanation**\n",
    "\n",
    "## Bipartite Ranking Algorithm\n",
    "This notebook implements a bipartite ranking algorithm that ranks items based on user ratings while iteratively refining user reputations. The goal is to achieve a fair ranking system where user biases are minimized.\n",
    "\n",
    "### **How it Works**\n",
    "1. **Initialize User Reputation**: All users start with equal reputation.\n",
    "2. **Compute Item Rankings**: Item scores are calculated using weighted user ratings.\n",
    "3. **Update User Reputation**: Users with large rating errors are penalized.\n",
    "4. **Iterate Until Convergence**: The process is repeated until rankings stabilize.\n",
    "\n",
    "This notebook will:\n",
    "- Load the dataset.\n",
    "- Apply the bipartite ranking algorithm.\n",
    "- Visualize the resulting item rankings.\n",
    "\n",
    "\n"
   ]
  },
  {
   "cell_type": "markdown",
   "metadata": {},
   "source": [
    "**1.    Imports**"
   ]
  },
  {
   "cell_type": "code",
   "execution_count": 17,
   "metadata": {},
   "outputs": [],
   "source": [
    "import pandas as pd\n",
    "import json\n",
    "import numpy as np\n",
    "import matplotlib.pyplot as plt\n",
    "from scipy.stats import kendalltau"
   ]
  },
  {
   "cell_type": "markdown",
   "metadata": {},
   "source": [
    "**2.    Load Dataset**"
   ]
  },
  {
   "cell_type": "code",
   "execution_count": 6,
   "metadata": {},
   "outputs": [
    {
     "data": {
      "text/html": [
       "<div>\n",
       "<style scoped>\n",
       "    .dataframe tbody tr th:only-of-type {\n",
       "        vertical-align: middle;\n",
       "    }\n",
       "\n",
       "    .dataframe tbody tr th {\n",
       "        vertical-align: top;\n",
       "    }\n",
       "\n",
       "    .dataframe thead th {\n",
       "        text-align: right;\n",
       "    }\n",
       "</style>\n",
       "<table border=\"1\" class=\"dataframe\">\n",
       "  <thead>\n",
       "    <tr style=\"text-align: right;\">\n",
       "      <th></th>\n",
       "      <th>overall</th>\n",
       "      <th>verified</th>\n",
       "      <th>reviewTime</th>\n",
       "      <th>reviewerID</th>\n",
       "      <th>asin</th>\n",
       "      <th>style</th>\n",
       "      <th>reviewerName</th>\n",
       "      <th>reviewText</th>\n",
       "      <th>summary</th>\n",
       "      <th>unixReviewTime</th>\n",
       "      <th>normalizedOverall</th>\n",
       "      <th>vote</th>\n",
       "      <th>image</th>\n",
       "    </tr>\n",
       "  </thead>\n",
       "  <tbody>\n",
       "    <tr>\n",
       "      <th>0</th>\n",
       "      <td>5.0</td>\n",
       "      <td>True</td>\n",
       "      <td>01 5, 2018</td>\n",
       "      <td>A2HOI48JK8838M</td>\n",
       "      <td>B00004U9V2</td>\n",
       "      <td>{'Size:': ' 0.9 oz.'}</td>\n",
       "      <td>DB</td>\n",
       "      <td>This handcream has a beautiful fragrance. It d...</td>\n",
       "      <td>Beautiful Fragrance</td>\n",
       "      <td>1515110400</td>\n",
       "      <td>1.0</td>\n",
       "      <td>NaN</td>\n",
       "      <td>NaN</td>\n",
       "    </tr>\n",
       "    <tr>\n",
       "      <th>1</th>\n",
       "      <td>5.0</td>\n",
       "      <td>True</td>\n",
       "      <td>04 5, 2017</td>\n",
       "      <td>A1YIPEY7HX73S7</td>\n",
       "      <td>B00004U9V2</td>\n",
       "      <td>{'Size:': ' 3.5 oz.'}</td>\n",
       "      <td>Ajaey</td>\n",
       "      <td>wonderful hand lotion, for seriously dry skin,...</td>\n",
       "      <td>wonderful hand lotion</td>\n",
       "      <td>1491350400</td>\n",
       "      <td>1.0</td>\n",
       "      <td>NaN</td>\n",
       "      <td>NaN</td>\n",
       "    </tr>\n",
       "    <tr>\n",
       "      <th>2</th>\n",
       "      <td>5.0</td>\n",
       "      <td>True</td>\n",
       "      <td>03 27, 2017</td>\n",
       "      <td>A2QCGHIJ2TCLVP</td>\n",
       "      <td>B00004U9V2</td>\n",
       "      <td>{'Size:': ' 250 g'}</td>\n",
       "      <td>D. Jones</td>\n",
       "      <td>Best hand cream around.  Silky, thick, soaks i...</td>\n",
       "      <td>Best hand cream around</td>\n",
       "      <td>1490572800</td>\n",
       "      <td>1.0</td>\n",
       "      <td>NaN</td>\n",
       "      <td>NaN</td>\n",
       "    </tr>\n",
       "    <tr>\n",
       "      <th>3</th>\n",
       "      <td>5.0</td>\n",
       "      <td>True</td>\n",
       "      <td>03 20, 2017</td>\n",
       "      <td>A2R4UNHFJBA6PY</td>\n",
       "      <td>B00004U9V2</td>\n",
       "      <td>{'Size:': ' 3.5 oz.'}</td>\n",
       "      <td>Amazon Customer</td>\n",
       "      <td>Thanks!!</td>\n",
       "      <td>Five Stars</td>\n",
       "      <td>1489968000</td>\n",
       "      <td>1.0</td>\n",
       "      <td>NaN</td>\n",
       "      <td>NaN</td>\n",
       "    </tr>\n",
       "    <tr>\n",
       "      <th>4</th>\n",
       "      <td>5.0</td>\n",
       "      <td>True</td>\n",
       "      <td>02 28, 2017</td>\n",
       "      <td>A2QCGHIJ2TCLVP</td>\n",
       "      <td>B00004U9V2</td>\n",
       "      <td>{'Size:': ' 0.9 oz.'}</td>\n",
       "      <td>D. Jones</td>\n",
       "      <td>Great hand lotion.  Soaks right in and leaves ...</td>\n",
       "      <td>Great hand lotion!</td>\n",
       "      <td>1488240000</td>\n",
       "      <td>1.0</td>\n",
       "      <td>NaN</td>\n",
       "      <td>NaN</td>\n",
       "    </tr>\n",
       "  </tbody>\n",
       "</table>\n",
       "</div>"
      ],
      "text/plain": [
       "   overall  verified   reviewTime      reviewerID        asin  \\\n",
       "0      5.0      True   01 5, 2018  A2HOI48JK8838M  B00004U9V2   \n",
       "1      5.0      True   04 5, 2017  A1YIPEY7HX73S7  B00004U9V2   \n",
       "2      5.0      True  03 27, 2017  A2QCGHIJ2TCLVP  B00004U9V2   \n",
       "3      5.0      True  03 20, 2017  A2R4UNHFJBA6PY  B00004U9V2   \n",
       "4      5.0      True  02 28, 2017  A2QCGHIJ2TCLVP  B00004U9V2   \n",
       "\n",
       "                   style     reviewerName  \\\n",
       "0  {'Size:': ' 0.9 oz.'}               DB   \n",
       "1  {'Size:': ' 3.5 oz.'}            Ajaey   \n",
       "2    {'Size:': ' 250 g'}         D. Jones   \n",
       "3  {'Size:': ' 3.5 oz.'}  Amazon Customer   \n",
       "4  {'Size:': ' 0.9 oz.'}         D. Jones   \n",
       "\n",
       "                                          reviewText                 summary  \\\n",
       "0  This handcream has a beautiful fragrance. It d...     Beautiful Fragrance   \n",
       "1  wonderful hand lotion, for seriously dry skin,...   wonderful hand lotion   \n",
       "2  Best hand cream around.  Silky, thick, soaks i...  Best hand cream around   \n",
       "3                                           Thanks!!              Five Stars   \n",
       "4  Great hand lotion.  Soaks right in and leaves ...      Great hand lotion!   \n",
       "\n",
       "   unixReviewTime  normalizedOverall vote image  \n",
       "0      1515110400                1.0  NaN   NaN  \n",
       "1      1491350400                1.0  NaN   NaN  \n",
       "2      1490572800                1.0  NaN   NaN  \n",
       "3      1489968000                1.0  NaN   NaN  \n",
       "4      1488240000                1.0  NaN   NaN  "
      ]
     },
     "execution_count": 6,
     "metadata": {},
     "output_type": "execute_result"
    }
   ],
   "source": [
    "file_path = \"/home/martim/Desktop/tese/datasets/amazon_beauty/Luxury_Beauty_5_normalized.json\"  # Replace with your dataset path\n",
    "\n",
    "# Load dataset\n",
    "with open(file_path, 'r') as f:\n",
    "    data = [json.loads(line) for line in f]\n",
    "df = pd.DataFrame(data)\n",
    "\n",
    "# Get unique users and items\n",
    "users = df[\"reviewerID\"].unique()\n",
    "items = df[\"asin\"].unique()\n",
    "\n",
    "df.head()"
   ]
  },
  {
   "cell_type": "markdown",
   "metadata": {},
   "source": [
    "**3.    Bipartite Ranking Algorithm**"
   ]
  },
  {
   "cell_type": "code",
   "execution_count": 11,
   "metadata": {},
   "outputs": [],
   "source": [
    "\n",
    "def bipartite_ranking_algorithm(lambda_factor=0.3, tol=1e-6, max_iter=2):\n",
    "\n",
    "    # Get unique users and items\n",
    "    users = df[\"reviewerID\"].unique()\n",
    "    items = df[\"asin\"].unique()\n",
    "\n",
    "    # Initialize user reputations (equal for all users)\n",
    "    user_reputation = {user: 1.0 for user in users}\n",
    "\n",
    "    for iteration in range(max_iter):\n",
    "        prev_item_rankings = {} if iteration == 0 else item_rankings.copy()\n",
    "\n",
    "        # Update item rankings\n",
    "        item_rankings = {}\n",
    "        for item in items:\n",
    "            item_ratings = df[df[\"asin\"] == item]\n",
    "            users_who_rated = item_ratings[\"reviewerID\"].values\n",
    "\n",
    "            if len(users_who_rated) == 0:\n",
    "                continue\n",
    "\n",
    "            weighted_sum = sum(user_reputation[u] * r for u, r in zip(users_who_rated, item_ratings[\"normalizedOverall\"].values))\n",
    "            total_weight = len(users_who_rated)\n",
    "\n",
    "            item_rankings[item] = weighted_sum / total_weight if total_weight > 0 else 0\n",
    "\n",
    "        # Update user reputations\n",
    "        for user in users:\n",
    "            user_ratings = df[df[\"reviewerID\"] == user]\n",
    "            items_rated = user_ratings[\"asin\"].values\n",
    "\n",
    "            if len(items_rated) == 0:\n",
    "                continue\n",
    "\n",
    "            rating_errors = [abs(r - item_rankings[i]) for i, r in zip(items_rated, user_ratings[\"normalizedOverall\"].values)]\n",
    "            avg_error = sum(rating_errors) / len(rating_errors)\n",
    "\n",
    "            user_reputation[user] = 1 - lambda_factor * avg_error\n",
    "            user_reputation[user] = max(user_reputation[user], 0)  # Ensure non-negative reputation\n",
    "\n",
    "        # Check for convergence\n",
    "        if iteration > 0:\n",
    "            ranking_diff = sum(abs(prev_item_rankings[i] - item_rankings[i]) for i in items if i in prev_item_rankings)\n",
    "            if ranking_diff < tol:\n",
    "                break\n",
    "\n",
    "    return item_rankings\n"
   ]
  },
  {
   "cell_type": "markdown",
   "metadata": {},
   "source": [
    "**4. Compute Item Rankings**\n"
   ]
  },
  {
   "cell_type": "code",
   "execution_count": 12,
   "metadata": {},
   "outputs": [
    {
     "data": {
      "text/plain": [
       "[('B000VXUTEI', 1.0),\n",
       " ('B000VZOJ6U', 0.9969230769230769),\n",
       " ('B0013EGTMA', 0.996),\n",
       " ('B000YTA570', 0.99168),\n",
       " ('B0015Z531A', 0.9913214285714286),\n",
       " ('B000VIZEOS', 0.9895968041620216),\n",
       " ('B00J4OTK9A', 0.9873914242620125),\n",
       " ('B0013EF2DC', 0.986),\n",
       " ('B00175S7R0', 0.9857411764705882),\n",
       " ('B0014F812E', 0.9853052298239394)]"
      ]
     },
     "execution_count": 12,
     "metadata": {},
     "output_type": "execute_result"
    }
   ],
   "source": [
    "# Compute rankings using the bipartite ranking algorithm\n",
    "rankings = bipartite_ranking_algorithm()\n",
    "\n",
    "# Display top-ranked items\n",
    "sorted_rankings = sorted(rankings.items(), key=lambda x: x[1], reverse=True)\n",
    "sorted_rankings[:10]\n"
   ]
  },
  {
   "cell_type": "markdown",
   "metadata": {},
   "source": [
    "**5. Visualizing the Distribution of Item Rankings**"
   ]
  },
  {
   "cell_type": "code",
   "execution_count": 13,
   "metadata": {},
   "outputs": [
    {
     "data": {
      "image/png": "[encoded data removed]",
      "text/plain": [
       "<Figure size 1000x600 with 1 Axes>"
      ]
     },
     "metadata": {},
     "output_type": "display_data"
    }
   ],
   "source": [
    "# Extract the ratings from the rankings\n",
    "ratings = list(rankings.values())\n",
    "\n",
    "# Define bins for the ratings (from 0.1 to 1.0 with steps of 0.1)\n",
    "bins = np.arange(0.1, 1.1, 0.1)\n",
    "\n",
    "# Count how many items fall into each rating bin\n",
    "hist, bin_edges = np.histogram(ratings, bins=bins)\n",
    "\n",
    "# Plotting the histogram\n",
    "plt.figure(figsize=(10, 6))\n",
    "plt.bar(bin_edges[:-1], hist, width=0.08, align='edge', edgecolor='black')\n",
    "\n",
    "# Adding numbers on top of bars\n",
    "for i in range(len(hist)):\n",
    "    plt.text(bin_edges[i], hist[i] + 1, str(hist[i]), ha='center', fontsize=10)\n",
    "\n",
    "# Finalize the plot\n",
    "plt.xlabel('Rating', fontsize=12)\n",
    "plt.ylabel('Number of Items', fontsize=12)\n",
    "plt.title('Distribution of Item Ratings', fontsize=14)\n",
    "plt.xticks(bins)  # Ensure the x-ticks correspond to the rating bins\n",
    "plt.tight_layout()\n",
    "plt.show()\n"
   ]
  },
  {
   "cell_type": "markdown",
   "metadata": {},
   "source": [
    "**6. Metrics**\n"
   ]
  },
  {
   "cell_type": "markdown",
   "metadata": {},
   "source": [
    "**6.1   Effectiveness**"
   ]
  },
  {
   "cell_type": "code",
   "execution_count": 21,
   "metadata": {},
   "outputs": [
    {
     "name": "stdout",
     "output_type": "stream",
     "text": [
      "Kendall’s τ: 0.9653\n"
     ]
    }
   ],
   "source": [
    "def compute_aggregated_average_ranking(df):\n",
    "    return df.groupby(\"asin\")[\"normalizedOverall\"].mean().to_dict()\n",
    "\n",
    "def compute_kendall_tau(ranking_1, ranking_2):\n",
    "    common_items = set(ranking_1.keys()) & set(ranking_2.keys())  # Ensure only common items are compared\n",
    "    \n",
    "    if len(common_items) < 2:  # Need at least two rankings to compute Kendall's tau\n",
    "        return 0\n",
    "    \n",
    "    sorted_items = sorted(common_items)  # Sort items to ensure consistent order\n",
    "    \n",
    "    list_1 = [ranking_1[item] for item in sorted_items]\n",
    "    list_2 = [ranking_2[item] for item in sorted_items]\n",
    "    \n",
    "    return kendalltau(list_1, list_2).correlation\n",
    "\n",
    "# Compute the aggregated average ranking\n",
    "aa_rankings = compute_aggregated_average_ranking(df)\n",
    "\n",
    "# Compute Kendall’s tau for the entire dataset\n",
    "tau_value = compute_kendall_tau(rankings, aa_rankings)\n",
    "print(f\"Kendall’s τ: {tau_value:.4f}\")\n",
    "\n"
   ]
  },
  {
   "cell_type": "markdown",
   "metadata": {},
   "source": [
    "**6.2   Bias**"
   ]
  }
 ],
 "metadata": {
  "kernelspec": {
   "display_name": "Python 3",
   "language": "python",
   "name": "python3"
  },
  "language_info": {
   "codemirror_mode": {
    "name": "ipython",
    "version": 3
   },
   "file_extension": ".py",
   "mimetype": "text/x-python",
   "name": "python",
   "nbconvert_exporter": "python",
   "pygments_lexer": "ipython3",
   "version": "3.10.12"
  }
 },
 "nbformat": 4,
 "nbformat_minor": 2
}
