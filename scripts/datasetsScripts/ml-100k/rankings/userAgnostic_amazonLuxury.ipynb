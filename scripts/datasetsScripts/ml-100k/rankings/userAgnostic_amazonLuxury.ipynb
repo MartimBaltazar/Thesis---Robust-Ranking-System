{
 "cells": [
  {
   "cell_type": "markdown",
   "metadata": {},
   "source": [
    "**Explanation**\n",
    "\n",
    "## User-Agnostic Item Ranking Algorithm\n",
    "\n",
    "This notebook implements a user-agnostic item ranking algorithm that aims to find a robust average rating for each item, filtering out potential outliers. The goal is to provide a reliable item ranking that is not biased by individual user variations.\n",
    "\n",
    "### **How it Works**\n",
    "\n",
    "1.  **Load Dataset:** The notebook begins by loading a tab-separated dataset containing user-item ratings, including a \"normalized\\_rating\" column.\n",
    "2.  **Iterate Through Items:** The algorithm then iterates through each unique item in the dataset.\n",
    "3.  **Iterative Mean Filtering:** For each item, it performs an iterative process:\n",
    "    * Calculate the mean and standard deviation of the item's ratings.\n",
    "    * Filter out ratings that deviate significantly (more than one standard deviation) from the mean.\n",
    "    * Repeat until no more ratings are filtered out (convergence).\n",
    "4.  **Compute Final Ranking:** The final ranking for each item is determined by the mean of the remaining (filtered) ratings.\n",
    "5.  **Visualize Results:** The notebook then creates a histogram to visualize the distribution of the calculated item rankings.\n",
    "\n",
    "### **This notebook will:**\n",
    "\n",
    "* Load a tab-separated dataset containing user-item ratings.\n",
    "* Implement a user-agnostic item ranking algorithm.\n",
    "* Generate a histogram showing the distribution of the resulting item rankings.\n",
    "* Filter outliers from item ratings to get a more robust mean."
   ]
  },
  {
   "cell_type": "markdown",
   "metadata": {},
   "source": [
    "**1.  Imports**"
   ]
  },
  {
   "cell_type": "code",
   "execution_count": 4,
   "metadata": {},
   "outputs": [],
   "source": [
    "import pandas as pd\n",
    "import json\n",
    "import numpy as np\n",
    "import matplotlib.pyplot as plt\n",
    "from scipy.stats import kendalltau"
   ]
  },
  {
   "cell_type": "markdown",
   "metadata": {},
   "source": [
    "**2.    Load Dataset**"
   ]
  },
  {
   "cell_type": "code",
   "execution_count": 5,
   "metadata": {},
   "outputs": [
    {
     "data": {
      "text/html": [
       "<div>\n",
       "<style scoped>\n",
       "    .dataframe tbody tr th:only-of-type {\n",
       "        vertical-align: middle;\n",
       "    }\n",
       "\n",
       "    .dataframe tbody tr th {\n",
       "        vertical-align: top;\n",
       "    }\n",
       "\n",
       "    .dataframe thead th {\n",
       "        text-align: right;\n",
       "    }\n",
       "</style>\n",
       "<table border=\"1\" class=\"dataframe\">\n",
       "  <thead>\n",
       "    <tr style=\"text-align: right;\">\n",
       "      <th></th>\n",
       "      <th>overall</th>\n",
       "      <th>verified</th>\n",
       "      <th>reviewTime</th>\n",
       "      <th>reviewerID</th>\n",
       "      <th>asin</th>\n",
       "      <th>style</th>\n",
       "      <th>reviewerName</th>\n",
       "      <th>reviewText</th>\n",
       "      <th>summary</th>\n",
       "      <th>unixReviewTime</th>\n",
       "      <th>normalizedOverall</th>\n",
       "      <th>vote</th>\n",
       "      <th>image</th>\n",
       "    </tr>\n",
       "  </thead>\n",
       "  <tbody>\n",
       "    <tr>\n",
       "      <th>0</th>\n",
       "      <td>5.0</td>\n",
       "      <td>True</td>\n",
       "      <td>01 5, 2018</td>\n",
       "      <td>A2HOI48JK8838M</td>\n",
       "      <td>B00004U9V2</td>\n",
       "      <td>{'Size:': ' 0.9 oz.'}</td>\n",
       "      <td>DB</td>\n",
       "      <td>This handcream has a beautiful fragrance. It d...</td>\n",
       "      <td>Beautiful Fragrance</td>\n",
       "      <td>1515110400</td>\n",
       "      <td>1.0</td>\n",
       "      <td>NaN</td>\n",
       "      <td>NaN</td>\n",
       "    </tr>\n",
       "    <tr>\n",
       "      <th>1</th>\n",
       "      <td>5.0</td>\n",
       "      <td>True</td>\n",
       "      <td>04 5, 2017</td>\n",
       "      <td>A1YIPEY7HX73S7</td>\n",
       "      <td>B00004U9V2</td>\n",
       "      <td>{'Size:': ' 3.5 oz.'}</td>\n",
       "      <td>Ajaey</td>\n",
       "      <td>wonderful hand lotion, for seriously dry skin,...</td>\n",
       "      <td>wonderful hand lotion</td>\n",
       "      <td>1491350400</td>\n",
       "      <td>1.0</td>\n",
       "      <td>NaN</td>\n",
       "      <td>NaN</td>\n",
       "    </tr>\n",
       "    <tr>\n",
       "      <th>2</th>\n",
       "      <td>5.0</td>\n",
       "      <td>True</td>\n",
       "      <td>03 27, 2017</td>\n",
       "      <td>A2QCGHIJ2TCLVP</td>\n",
       "      <td>B00004U9V2</td>\n",
       "      <td>{'Size:': ' 250 g'}</td>\n",
       "      <td>D. Jones</td>\n",
       "      <td>Best hand cream around.  Silky, thick, soaks i...</td>\n",
       "      <td>Best hand cream around</td>\n",
       "      <td>1490572800</td>\n",
       "      <td>1.0</td>\n",
       "      <td>NaN</td>\n",
       "      <td>NaN</td>\n",
       "    </tr>\n",
       "    <tr>\n",
       "      <th>3</th>\n",
       "      <td>5.0</td>\n",
       "      <td>True</td>\n",
       "      <td>03 20, 2017</td>\n",
       "      <td>A2R4UNHFJBA6PY</td>\n",
       "      <td>B00004U9V2</td>\n",
       "      <td>{'Size:': ' 3.5 oz.'}</td>\n",
       "      <td>Amazon Customer</td>\n",
       "      <td>Thanks!!</td>\n",
       "      <td>Five Stars</td>\n",
       "      <td>1489968000</td>\n",
       "      <td>1.0</td>\n",
       "      <td>NaN</td>\n",
       "      <td>NaN</td>\n",
       "    </tr>\n",
       "    <tr>\n",
       "      <th>4</th>\n",
       "      <td>5.0</td>\n",
       "      <td>True</td>\n",
       "      <td>02 28, 2017</td>\n",
       "      <td>A2QCGHIJ2TCLVP</td>\n",
       "      <td>B00004U9V2</td>\n",
       "      <td>{'Size:': ' 0.9 oz.'}</td>\n",
       "      <td>D. Jones</td>\n",
       "      <td>Great hand lotion.  Soaks right in and leaves ...</td>\n",
       "      <td>Great hand lotion!</td>\n",
       "      <td>1488240000</td>\n",
       "      <td>1.0</td>\n",
       "      <td>NaN</td>\n",
       "      <td>NaN</td>\n",
       "    </tr>\n",
       "  </tbody>\n",
       "</table>\n",
       "</div>"
      ],
      "text/plain": [
       "   overall  verified   reviewTime      reviewerID        asin  \\\n",
       "0      5.0      True   01 5, 2018  A2HOI48JK8838M  B00004U9V2   \n",
       "1      5.0      True   04 5, 2017  A1YIPEY7HX73S7  B00004U9V2   \n",
       "2      5.0      True  03 27, 2017  A2QCGHIJ2TCLVP  B00004U9V2   \n",
       "3      5.0      True  03 20, 2017  A2R4UNHFJBA6PY  B00004U9V2   \n",
       "4      5.0      True  02 28, 2017  A2QCGHIJ2TCLVP  B00004U9V2   \n",
       "\n",
       "                   style     reviewerName  \\\n",
       "0  {'Size:': ' 0.9 oz.'}               DB   \n",
       "1  {'Size:': ' 3.5 oz.'}            Ajaey   \n",
       "2    {'Size:': ' 250 g'}         D. Jones   \n",
       "3  {'Size:': ' 3.5 oz.'}  Amazon Customer   \n",
       "4  {'Size:': ' 0.9 oz.'}         D. Jones   \n",
       "\n",
       "                                          reviewText                 summary  \\\n",
       "0  This handcream has a beautiful fragrance. It d...     Beautiful Fragrance   \n",
       "1  wonderful hand lotion, for seriously dry skin,...   wonderful hand lotion   \n",
       "2  Best hand cream around.  Silky, thick, soaks i...  Best hand cream around   \n",
       "3                                           Thanks!!              Five Stars   \n",
       "4  Great hand lotion.  Soaks right in and leaves ...      Great hand lotion!   \n",
       "\n",
       "   unixReviewTime  normalizedOverall vote image  \n",
       "0      1515110400                1.0  NaN   NaN  \n",
       "1      1491350400                1.0  NaN   NaN  \n",
       "2      1490572800                1.0  NaN   NaN  \n",
       "3      1489968000                1.0  NaN   NaN  \n",
       "4      1488240000                1.0  NaN   NaN  "
      ]
     },
     "execution_count": 5,
     "metadata": {},
     "output_type": "execute_result"
    }
   ],
   "source": [
    "file_path = \"/home/martim/Desktop/tese/datasets/amazon_beauty/Luxury_Beauty_5_normalized.json\"  # Replace with your dataset path\n",
    "\n",
    "# Load dataset\n",
    "with open(file_path, 'r') as f:\n",
    "    data = [json.loads(line) for line in f]\n",
    "df = pd.DataFrame(data)\n",
    "\n",
    "# Get unique users and items\n",
    "users = df[\"reviewerID\"].unique()\n",
    "items = df[\"asin\"].unique()\n",
    "\n",
    "df.head()"
   ]
  },
  {
   "cell_type": "markdown",
   "metadata": {},
   "source": [
    "**3. User-Agnostic Bipartite ranking computation**"
   ]
  },
  {
   "cell_type": "code",
   "execution_count": 6,
   "metadata": {},
   "outputs": [],
   "source": [
    "def user_agnostic_ranking(tol=1e-6):\n",
    "    \n",
    "    # Step 2: Define output dictionary for item rankings\n",
    "    item_rankings = {}\n",
    "\n",
    "    # Step 3: Iterate over all unique items\n",
    "    for item, ratings in df.groupby(\"asin\")[\"normalizedOverall\"]:\n",
    "        ratings = list(ratings)  # Convert to list\n",
    "        converged = False\n",
    "\n",
    "        # Step 5: Loop until a fixed point is reached\n",
    "        while not converged:\n",
    "            # Step 6: Compute the mean (μᵢ) of ratings for item i\n",
    "            μ_i = np.mean(ratings)\n",
    "            \n",
    "            # Step 7: Compute the standard deviation (σᵢ)\n",
    "            σ_i = np.std(ratings) if len(ratings) > 1 else 0\n",
    "\n",
    "            # Step 8: Filter out ratings that deviate significantly from the mean\n",
    "            new_ratings = [r for r in ratings if (r - μ_i) ** 2 <= σ_i]\n",
    "\n",
    "            # Step 9: Check for convergence (if no ratings were removed)\n",
    "            converged = (len(new_ratings) == len(ratings))\n",
    "\n",
    "            #step 10: Update the ratings\n",
    "            ratings = new_ratings\n",
    "        \n",
    "        # Step 12: Compute the final ranking as the mean of the filtered ratings\n",
    "        item_rankings[item] = np.mean(ratings)\n",
    "\n",
    "    return item_rankings"
   ]
  },
  {
   "cell_type": "markdown",
   "metadata": {},
   "source": [
    "**4.    Compute item rankings**"
   ]
  },
  {
   "cell_type": "code",
   "execution_count": 7,
   "metadata": {},
   "outputs": [
    {
     "data": {
      "text/plain": [
       "[('B00021D2TI', 1.0),\n",
       " ('B00021D2Z2', 1.0),\n",
       " ('B0002COKFC', 1.0),\n",
       " ('B0002MES86', 1.0),\n",
       " ('B0002X3SH2', 1.0),\n",
       " ('B0002Y5JEG', 1.0),\n",
       " ('B0006FMQWO', 1.0),\n",
       " ('B0006NXBIE', 1.0),\n",
       " ('B0006PJSES', 1.0),\n",
       " ('B0009DSONI', 1.0)]"
      ]
     },
     "execution_count": 7,
     "metadata": {},
     "output_type": "execute_result"
    }
   ],
   "source": [
    "# Compute rankings using the bipartite ranking algorithm\n",
    "rankings = user_agnostic_ranking(df)\n",
    "\n",
    "# Display top-ranked items\n",
    "sorted_rankings = sorted(rankings.items(), key=lambda x: x[1], reverse=True)\n",
    "sorted_rankings[:10]\n"
   ]
  },
  {
   "cell_type": "markdown",
   "metadata": {},
   "source": [
    "**5. Visualizing the Distribution of Item Rankings**"
   ]
  },
  {
   "cell_type": "code",
   "execution_count": 8,
   "metadata": {},
   "outputs": [
    {
     "data": {
      "image/png": "[encoded data removed]",
      "text/plain": [
       "<Figure size 1000x600 with 1 Axes>"
      ]
     },
     "metadata": {},
     "output_type": "display_data"
    }
   ],
   "source": [
    "# Extract the ratings from the rankings\n",
    "ratings = list(rankings.values())\n",
    "\n",
    "# Define bins for the ratings (from 0.1 to 1.0 with steps of 0.1)\n",
    "bins = np.arange(0.1, 1.1, 0.1)\n",
    "\n",
    "# Count how many items fall into each rating bin\n",
    "hist, bin_edges = np.histogram(ratings, bins=bins)\n",
    "\n",
    "# Plotting the histogram\n",
    "plt.figure(figsize=(10, 6))\n",
    "plt.bar(bin_edges[:-1], hist, width=0.08, align='edge', edgecolor='black')\n",
    "\n",
    "# Adding numbers on top of bars\n",
    "for i in range(len(hist)):\n",
    "    plt.text(bin_edges[i], hist[i] + 1, str(hist[i]), ha='center', fontsize=10)\n",
    "\n",
    "# Finalize the plot\n",
    "plt.xlabel('Rating', fontsize=12)\n",
    "plt.ylabel('Number of Items', fontsize=12)\n",
    "plt.title('Distribution of Item Ratings', fontsize=14)\n",
    "plt.xticks(bins)  # Ensure the x-ticks correspond to the rating bins\n",
    "plt.tight_layout()\n",
    "plt.show()\n"
   ]
  },
  {
   "cell_type": "markdown",
   "metadata": {},
   "source": [
    "**6. Metrics**\n"
   ]
  },
  {
   "cell_type": "markdown",
   "metadata": {},
   "source": [
    "**6.1 Effectiveness**"
   ]
  },
  {
   "cell_type": "code",
   "execution_count": 9,
   "metadata": {},
   "outputs": [
    {
     "name": "stdout",
     "output_type": "stream",
     "text": [
      "Kendall’s τ: 0.7883\n"
     ]
    }
   ],
   "source": [
    "def compute_aggregated_average_ranking(df):\n",
    "    return df.groupby(\"asin\")[\"normalizedOverall\"].mean().to_dict()\n",
    "\n",
    "def compute_kendall_tau(ranking_1, ranking_2):\n",
    "    common_items = set(ranking_1.keys()) & set(ranking_2.keys())  # Ensure only common items are compared\n",
    "    \n",
    "    if len(common_items) < 2:  # Need at least two rankings to compute Kendall's tau\n",
    "        return 0\n",
    "    \n",
    "    sorted_items = sorted(common_items)  # Sort items to ensure consistent order\n",
    "    \n",
    "    list_1 = [ranking_1[item] for item in sorted_items]\n",
    "    list_2 = [ranking_2[item] for item in sorted_items]\n",
    "    \n",
    "    return kendalltau(list_1, list_2).correlation\n",
    "\n",
    "# Compute the aggregated average ranking\n",
    "aa_rankings = compute_aggregated_average_ranking(df)\n",
    "\n",
    "# Compute Kendall’s tau for the entire dataset\n",
    "tau_value = compute_kendall_tau(rankings, aa_rankings)\n",
    "print(f\"Kendall’s τ: {tau_value:.4f}\")\n",
    "\n"
   ]
  }
 ],
 "metadata": {
  "kernelspec": {
   "display_name": "Python 3",
   "language": "python",
   "name": "python3"
  },
  "language_info": {
   "codemirror_mode": {
    "name": "ipython",
    "version": 3
   },
   "file_extension": ".py",
   "mimetype": "text/x-python",
   "name": "python",
   "nbconvert_exporter": "python",
   "pygments_lexer": "ipython3",
   "version": "3.10.12"
  }
 },
 "nbformat": 4,
 "nbformat_minor": 2
}
