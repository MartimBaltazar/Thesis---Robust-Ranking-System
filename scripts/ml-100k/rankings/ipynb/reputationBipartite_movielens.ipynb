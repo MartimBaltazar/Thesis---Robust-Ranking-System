{
 "cells": [
  {
   "cell_type": "markdown",
   "metadata": {},
   "source": [
    "**Explanation**\n",
    "\n",
    "## Bipartite Ranking Algorithm\n",
    "This notebook implements a bipartite ranking algorithm that ranks items based on user ratings while iteratively refining user reputations. The goal is to achieve a fair ranking system where user biases are minimized.\n",
    "\n",
    "### **How it Works**\n",
    "1. **Initialize User Reputation**: All users start with equal reputation.\n",
    "2. **Compute Item Rankings**: Item scores are calculated using weighted user ratings.\n",
    "3. **Update User Reputation**: Users with large rating errors are penalized.\n",
    "4. **Iterate Until Convergence**: The process is repeated until rankings stabilize.\n",
    "\n",
    "This notebook will:\n",
    "- Load the dataset.\n",
    "- Apply the bipartite ranking algorithm.\n",
    "- Visualize the resulting item rankings.\n",
    "\n",
    "\n"
   ]
  },
  {
   "cell_type": "markdown",
   "metadata": {},
   "source": [
    "**1.    Imports**"
   ]
  },
  {
   "cell_type": "code",
   "execution_count": 1,
   "metadata": {},
   "outputs": [],
   "source": [
    "import pandas as pd\n",
    "import numpy as np\n",
    "import matplotlib.pyplot as plt\n",
    "from scipy.stats import kendalltau"
   ]
  },
  {
   "cell_type": "markdown",
   "metadata": {},
   "source": [
    "**2.    Load Dataset**\n"
   ]
  },
  {
   "cell_type": "code",
   "execution_count": 3,
   "metadata": {},
   "outputs": [
    {
     "data": {
      "text/html": [
       "<div>\n",
       "<style scoped>\n",
       "    .dataframe tbody tr th:only-of-type {\n",
       "        vertical-align: middle;\n",
       "    }\n",
       "\n",
       "    .dataframe tbody tr th {\n",
       "        vertical-align: top;\n",
       "    }\n",
       "\n",
       "    .dataframe thead th {\n",
       "        text-align: right;\n",
       "    }\n",
       "</style>\n",
       "<table border=\"1\" class=\"dataframe\">\n",
       "  <thead>\n",
       "    <tr style=\"text-align: right;\">\n",
       "      <th></th>\n",
       "      <th>user_id</th>\n",
       "      <th>item_id</th>\n",
       "      <th>rating</th>\n",
       "      <th>timestamp</th>\n",
       "      <th>normalized_rating</th>\n",
       "    </tr>\n",
       "  </thead>\n",
       "  <tbody>\n",
       "    <tr>\n",
       "      <th>0</th>\n",
       "      <td>196</td>\n",
       "      <td>242</td>\n",
       "      <td>3</td>\n",
       "      <td>881250949</td>\n",
       "      <td>0.6</td>\n",
       "    </tr>\n",
       "    <tr>\n",
       "      <th>1</th>\n",
       "      <td>186</td>\n",
       "      <td>302</td>\n",
       "      <td>3</td>\n",
       "      <td>891717742</td>\n",
       "      <td>0.6</td>\n",
       "    </tr>\n",
       "    <tr>\n",
       "      <th>2</th>\n",
       "      <td>22</td>\n",
       "      <td>377</td>\n",
       "      <td>1</td>\n",
       "      <td>878887116</td>\n",
       "      <td>0.2</td>\n",
       "    </tr>\n",
       "    <tr>\n",
       "      <th>3</th>\n",
       "      <td>244</td>\n",
       "      <td>51</td>\n",
       "      <td>2</td>\n",
       "      <td>880606923</td>\n",
       "      <td>0.4</td>\n",
       "    </tr>\n",
       "    <tr>\n",
       "      <th>4</th>\n",
       "      <td>166</td>\n",
       "      <td>346</td>\n",
       "      <td>1</td>\n",
       "      <td>886397596</td>\n",
       "      <td>0.2</td>\n",
       "    </tr>\n",
       "  </tbody>\n",
       "</table>\n",
       "</div>"
      ],
      "text/plain": [
       "   user_id  item_id  rating  timestamp  normalized_rating\n",
       "0      196      242       3  881250949                0.6\n",
       "1      186      302       3  891717742                0.6\n",
       "2       22      377       1  878887116                0.2\n",
       "3      244       51       2  880606923                0.4\n",
       "4      166      346       1  886397596                0.2"
      ]
     },
     "execution_count": 3,
     "metadata": {},
     "output_type": "execute_result"
    }
   ],
   "source": [
    "# Define dataset path\n",
    "file_path = \"/home/martimsbaltazar/Desktop/tese/datasets/ml-100k/normalized_rating_movielens_100k.dat\"\n",
    "\n",
    "df = pd.read_csv(file_path, sep=\"::\", engine=\"python\", names=[\"user_id\", \"item_id\", \"rating\", \"timestamp\", \"normalized_rating\"])\n",
    "    \n",
    "# Step 2: Get unique users and items\n",
    "users = df[\"user_id\"].unique()\n",
    "items = df[\"item_id\"].unique()\n",
    "# Display first few rows\n",
    "df.head()\n"
   ]
  },
  {
   "cell_type": "markdown",
   "metadata": {},
   "source": [
    "**3.    Bipartite Ranking Algorithm**"
   ]
  },
  {
   "cell_type": "code",
   "execution_count": 4,
   "metadata": {},
   "outputs": [],
   "source": [
    "\n",
    "def bipartite_ranking_algorithm(df, lambda_factor=0.3, tol=1e-6, max_iter=50):\n",
    "    \n",
    "    # Step 1: Initialize user reputations (equal for all users)\n",
    "    user_reputation = {user: 1.0 for user in users}\n",
    "    \n",
    "    for iteration in range(max_iter):\n",
    "        prev_item_rankings = {} if iteration == 0 else item_rankings.copy()\n",
    "\n",
    "        # Step 2: Update item rankings\n",
    "        item_rankings = {}\n",
    "        for item in items:\n",
    "            item_ratings = df[df[\"item_id\"] == item]  # Ratings given to a specific movie\n",
    "            users_who_rated = item_ratings[\"user_id\"].values  # Users who rated this movie\n",
    "            \n",
    "            if len(users_who_rated) == 0:\n",
    "                continue\n",
    "            \n",
    "            # Step 3: Compute weighted sum of ratings using user reputation\n",
    "            weighted_sum = sum(float(user_reputation[u]) * float(r) for u, r in zip(users_who_rated, item_ratings[\"normalized_rating\"].values))\n",
    "            total_weight = len(users_who_rated)\n",
    "            \n",
    "            # Step 4: Assign ranking to item\n",
    "            item_rankings[item] = weighted_sum / total_weight if total_weight > 0 else 0\n",
    "        \n",
    "        # Step 5: Update user reputations\n",
    "        for user in users:\n",
    "            user_ratings = df[df[\"user_id\"] == user]\n",
    "            items_rated = user_ratings[\"item_id\"].values\n",
    "            \n",
    "            if len(items_rated) == 0:\n",
    "                continue\n",
    "            \n",
    "            # Step 6: Compute average rating error\n",
    "            rating_errors = [abs(r - item_rankings[i]) for i, r in zip(items_rated, user_ratings[\"normalized_rating\"].values)]\n",
    "            avg_error = sum(rating_errors) / len(rating_errors)\n",
    "            \n",
    "            # Step 7: Update user reputation\n",
    "            user_reputation[user] = 1 - lambda_factor * avg_error\n",
    "            user_reputation[user] = max(user_reputation[user], 0)  # Ensure non-negative reputation\n",
    "        \n",
    "        # Step 8: Check for convergence\n",
    "        if iteration > 0:\n",
    "            ranking_diff = sum(abs(prev_item_rankings[i] - item_rankings[i]) for i in items if i in prev_item_rankings)\n",
    "            if ranking_diff < tol:\n",
    "                break\n",
    "    \n",
    "    return item_rankings\n"
   ]
  },
  {
   "cell_type": "markdown",
   "metadata": {},
   "source": [
    "**4. Compute Item Rankings**\n"
   ]
  },
  {
   "cell_type": "code",
   "execution_count": 5,
   "metadata": {},
   "outputs": [
    {
     "data": {
      "text/plain": [
       "[(1122, 0.963456299723175),\n",
       " (1467, 0.9504335667812297),\n",
       " (1599, 0.9470141014163329),\n",
       " (1201, 0.9453416891683258),\n",
       " (1189, 0.9450938012539698),\n",
       " (1500, 0.9436506512069149),\n",
       " (1653, 0.9433878236829577),\n",
       " (1536, 0.9433803355297167),\n",
       " (814, 0.9414741208761862),\n",
       " (1293, 0.9289545824571181)]"
      ]
     },
     "execution_count": 5,
     "metadata": {},
     "output_type": "execute_result"
    }
   ],
   "source": [
    "# Compute rankings using the bipartite ranking algorithm\n",
    "rankings = bipartite_ranking_algorithm(df)\n",
    "\n",
    "# Display top-ranked items\n",
    "sorted_rankings = sorted(rankings.items(), key=lambda x: x[1], reverse=True)\n",
    "sorted_rankings[:10]\n"
   ]
  },
  {
   "cell_type": "markdown",
   "metadata": {},
   "source": [
    "**5. Visualizing the Distribution of Item Rankings**"
   ]
  },
  {
   "cell_type": "code",
   "execution_count": 6,
   "metadata": {},
   "outputs": [
    {
     "data": {
      "image/png": "[encoded data removed]",
      "text/plain": [
       "<Figure size 1000x600 with 1 Axes>"
      ]
     },
     "metadata": {},
     "output_type": "display_data"
    }
   ],
   "source": [
    "# Extract the ratings from the rankings\n",
    "ratings = list(rankings.values())\n",
    "\n",
    "# Define bins for the ratings (from 0.1 to 1.0 with steps of 0.1)\n",
    "bins = np.arange(0.1, 1.1, 0.1)\n",
    "\n",
    "# Count how many items fall into each rating bin\n",
    "hist, bin_edges = np.histogram(ratings, bins=bins)\n",
    "\n",
    "# Plotting the histogram\n",
    "plt.figure(figsize=(10, 6))\n",
    "plt.bar(bin_edges[:-1], hist, width=0.08, align='edge', edgecolor='black')\n",
    "\n",
    "# Adding numbers on top of bars\n",
    "for i in range(len(hist)):\n",
    "    plt.text(bin_edges[i], hist[i] + 1, str(hist[i]), ha='center', fontsize=10)\n",
    "\n",
    "# Finalize the plot\n",
    "plt.xlabel('Rating', fontsize=12)\n",
    "plt.ylabel('Number of Items', fontsize=12)\n",
    "plt.title('Distribution of Item Ratings', fontsize=14)\n",
    "plt.xticks(bins)  # Ensure the x-ticks correspond to the rating bins\n",
    "plt.tight_layout()\n",
    "plt.show()\n"
   ]
  },
  {
   "cell_type": "markdown",
   "metadata": {},
   "source": [
    "**6. Metrics**\n"
   ]
  },
  {
   "cell_type": "markdown",
   "metadata": {},
   "source": [
    "**6.1   Effectiveness**"
   ]
  },
  {
   "cell_type": "code",
   "execution_count": 7,
   "metadata": {},
   "outputs": [
    {
     "name": "stdout",
     "output_type": "stream",
     "text": [
      "Kendall’s τ: 0.9856\n"
     ]
    }
   ],
   "source": [
    "def compute_aggregated_average_ranking(df):\n",
    "    return df.groupby(\"item_id\")[\"normalized_rating\"].mean().to_dict()\n",
    "\n",
    "def compute_kendall_tau(ranking_1, ranking_2):\n",
    "    common_items = set(ranking_1.keys()) & set(ranking_2.keys())  # Ensure only common items are compared\n",
    "    \n",
    "    if len(common_items) < 2:  # Need at least two rankings to compute Kendall's tau\n",
    "        return 0\n",
    "    \n",
    "    sorted_items = sorted(common_items)  # Sort items to ensure consistent order\n",
    "    \n",
    "    list_1 = [ranking_1[item] for item in sorted_items]\n",
    "    list_2 = [ranking_2[item] for item in sorted_items]\n",
    "    \n",
    "    return kendalltau(list_1, list_2).correlation\n",
    "\n",
    "# Compute the aggregated average ranking\n",
    "aa_rankings = compute_aggregated_average_ranking(df)\n",
    "\n",
    "# Compute Kendall’s tau for the entire dataset\n",
    "tau_value = compute_kendall_tau(rankings, aa_rankings)\n",
    "print(f\"Kendall’s τ: {tau_value:.4f}\")\n",
    "\n"
   ]
  },
  {
   "cell_type": "markdown",
   "metadata": {},
   "source": [
    "**6.2   Bias**"
   ]
  },
  {
   "cell_type": "code",
   "execution_count": null,
   "metadata": {},
   "outputs": [],
   "source": [
    "bla bla"
   ]
  }
 ],
 "metadata": {
  "kernelspec": {
   "display_name": "Python 3",
   "language": "python",
   "name": "python3"
  },
  "language_info": {
   "codemirror_mode": {
    "name": "ipython",
    "version": 3
   },
   "file_extension": ".py",
   "mimetype": "text/x-python",
   "name": "python",
   "nbconvert_exporter": "python",
   "pygments_lexer": "ipython3",
   "version": "3.12.3"
  }
 },
 "nbformat": 4,
 "nbformat_minor": 2
}
