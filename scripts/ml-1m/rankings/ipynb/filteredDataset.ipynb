{
 "cells": [
  {
   "cell_type": "markdown",
   "metadata": {},
   "source": [
    "**1. Imports**"
   ]
  },
  {
   "cell_type": "code",
   "execution_count": 2,
   "metadata": {},
   "outputs": [],
   "source": [
    "import pandas as pd"
   ]
  },
  {
   "cell_type": "markdown",
   "metadata": {},
   "source": [
    "**2. Load Dataset**"
   ]
  },
  {
   "cell_type": "code",
   "execution_count": 31,
   "metadata": {},
   "outputs": [
    {
     "name": "stdout",
     "output_type": "stream",
     "text": [
      "Ratings columns: ['User-ID', 'ISBN', 'Rating']\n",
      "Users columns: ['User-ID', 'Age']\n"
     ]
    },
    {
     "name": "stderr",
     "output_type": "stream",
     "text": [
      "/tmp/ipykernel_56479/3328619721.py:3: DtypeWarning: Columns (0) have mixed types. Specify dtype option on import or set low_memory=False.\n",
      "  users = pd.read_csv(\"/home/martimsbaltazar/Desktop/tese/datasets/BookCrossing/Users.csv\", sep =\",\")         # Columns: User-ID, Age\n"
     ]
    }
   ],
   "source": [
    "ratings = pd.read_csv(\"/home/martimsbaltazar/Desktop/tese/datasets/BookCrossing/Ratings.csv\", sep=';', encoding='latin-1') # Columns: User-ID, ISBN, Rating\n",
    "\n",
    "users = pd.read_csv(\"/home/martimsbaltazar/Desktop/tese/datasets/BookCrossing/Users.csv\", sep =\",\")         # Columns: User-ID, Age\n",
    "\n",
    "# Check if columns were correctly parsed\n",
    "print(\"Ratings columns:\", ratings.columns.tolist())\n",
    "print(\"Users columns:\", users.columns.tolist())"
   ]
  },
  {
   "cell_type": "markdown",
   "metadata": {},
   "source": [
    "**3. Filter users with valid age**"
   ]
  },
  {
   "cell_type": "code",
   "execution_count": 32,
   "metadata": {},
   "outputs": [
    {
     "name": "stdout",
     "output_type": "stream",
     "text": [
      "Users before age filtering: 278859\n",
      "Users after age filtering: 166739\n"
     ]
    }
   ],
   "source": [
    "print(f\"Users before age filtering: {len(users)}\")\n",
    "\n",
    "\n",
    "# Step 1: Remove NA values (already correct)\n",
    "users = users.dropna(subset=[\"Age\"])\n",
    "\n",
    "# Step 2: Convert 'Age' column to numeric (invalid values become NaN)\n",
    "users[\"Age\"] = pd.to_numeric(users[\"Age\"], errors=\"coerce\")\n",
    "\n",
    "# Step 3: Drop rows where conversion failed (i.e. non-numeric or negative ages)\n",
    "users = users.dropna(subset=[\"Age\"])\n",
    "users = users[users[\"Age\"] > 0]\n",
    "\n",
    "# # Step 4: (Optional) Convert to integer if needed\n",
    "# users[\"Age\"] = users[\"Age\"].astype(int)\n",
    "\n",
    "print(f\"Users after age filtering: {len(users)}\")\n"
   ]
  },
  {
   "cell_type": "markdown",
   "metadata": {},
   "source": [
    "**4. Filter ratings to keep only those with valid users**"
   ]
  },
  {
   "cell_type": "code",
   "execution_count": 33,
   "metadata": {},
   "outputs": [
    {
     "name": "stdout",
     "output_type": "stream",
     "text": [
      "Ratings before age filtering: 1149780\n",
      "Ratings after age filtering: 790570\n"
     ]
    }
   ],
   "source": [
    "print(f\"Ratings before age filtering: {len(ratings)}\")\n",
    "\n",
    "ratings = ratings[ratings[\"User-ID\"].isin(users[\"User-ID\"])]\n",
    "\n",
    "print(f\"Ratings after age filtering: {len(ratings)}\")\n"
   ]
  },
  {
   "cell_type": "markdown",
   "metadata": {},
   "source": [
    "**5. Keep users with at least 5 ratings**"
   ]
  },
  {
   "cell_type": "code",
   "execution_count": null,
   "metadata": {},
   "outputs": [
    {
     "name": "stdout",
     "output_type": "stream",
     "text": [
      "Users before age filtering: 166739\n",
      "Users after age filtering: 14680\n"
     ]
    }
   ],
   "source": [
    "print(f\"Users before min ratings filtering: {len(users)}\")\n",
    "\n",
    "user_rating_counts = ratings[\"User-ID\"].value_counts()\n",
    "eligible_users = user_rating_counts[user_rating_counts >= 5].index\n",
    "\n",
    "print(f\"Users after min ratings filtering: {len(eligible_users)}\")\n"
   ]
  },
  {
   "cell_type": "markdown",
   "metadata": {},
   "source": [
    "**6. Reduce to 6000 users**"
   ]
  },
  {
   "cell_type": "code",
   "execution_count": 35,
   "metadata": {},
   "outputs": [
    {
     "name": "stdout",
     "output_type": "stream",
     "text": [
      "Selected users: 6000\n"
     ]
    }
   ],
   "source": [
    "eligible_users = eligible_users[:6000]\n",
    "print(f\"Selected users: {len(eligible_users)}\")\n"
   ]
  },
  {
   "cell_type": "markdown",
   "metadata": {},
   "source": [
    "**7. Filter ratings for selected users**"
   ]
  },
  {
   "cell_type": "code",
   "execution_count": 36,
   "metadata": {},
   "outputs": [],
   "source": [
    "filtered_ratings = ratings[ratings[\"User-ID\"].isin(eligible_users)]"
   ]
  },
  {
   "cell_type": "markdown",
   "metadata": {},
   "source": [
    "**8. Limit to 4000 most-rated ISBNs**"
   ]
  },
  {
   "cell_type": "code",
   "execution_count": 37,
   "metadata": {},
   "outputs": [],
   "source": [
    "top_items = filtered_ratings[\"ISBN\"].value_counts().head(4000).index\n",
    "filtered_ratings = filtered_ratings[filtered_ratings[\"ISBN\"].isin(top_items)]"
   ]
  },
  {
   "cell_type": "markdown",
   "metadata": {},
   "source": [
    "**9. Final filter — users still with at least 5 ratings**"
   ]
  },
  {
   "cell_type": "code",
   "execution_count": 38,
   "metadata": {},
   "outputs": [],
   "source": [
    "final_user_counts = filtered_ratings[\"User-ID\"].value_counts()\n",
    "final_users = final_user_counts[final_user_counts >= 5].index\n",
    "\n",
    "filtered_ratings = filtered_ratings[filtered_ratings[\"User-ID\"].isin(final_users)]\n",
    "filtered_users = users[users[\"User-ID\"].isin(final_users)]\n"
   ]
  },
  {
   "cell_type": "markdown",
   "metadata": {},
   "source": [
    "**10. Save new dataset**"
   ]
  },
  {
   "cell_type": "code",
   "execution_count": 39,
   "metadata": {},
   "outputs": [
    {
     "name": "stdout",
     "output_type": "stream",
     "text": [
      "✅ Dataset successfully filtered and saved.\n",
      "Users: 4393\n",
      "Items: 4000\n",
      "Ratings: 163396\n"
     ]
    }
   ],
   "source": [
    "filtered_ratings.to_csv(\"filtered_ratings.csv\", index=False)\n",
    "filtered_users.to_csv(\"filtered_users.csv\", index=False)\n",
    "\n",
    "print(\"✅ Dataset successfully filtered and saved.\")\n",
    "print(f\"Users: {len(filtered_users)}\")\n",
    "print(f\"Items: {filtered_ratings['ISBN'].nunique()}\")\n",
    "print(f\"Ratings: {len(filtered_ratings)}\")"
   ]
  }
 ],
 "metadata": {
  "kernelspec": {
   "display_name": "Python 3",
   "language": "python",
   "name": "python3"
  },
  "language_info": {
   "codemirror_mode": {
    "name": "ipython",
    "version": 3
   },
   "file_extension": ".py",
   "mimetype": "text/x-python",
   "name": "python",
   "nbconvert_exporter": "python",
   "pygments_lexer": "ipython3",
   "version": "3.12.3"
  }
 },
 "nbformat": 4,
 "nbformat_minor": 2
}
