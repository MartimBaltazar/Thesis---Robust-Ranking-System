{
 "cells": [
  {
   "cell_type": "markdown",
   "metadata": {},
   "source": [
    "# 🎯 Simulating Random Spamming Attacks on a Ratings Dataset\n",
    "\n",
    "## 📄 Dataset Overview\n",
    "\n",
    "This notebook uses the `ratings.dat` dataset, where each row represents a user's rating of a movie in the following format:\n",
    "\n",
    "\n",
    "- **UserID**: Integer between 1 and 6040\n",
    "- **MovieID**: Integer between 1 and 3952\n",
    "- **Rating**: Whole number from 1 to 5\n",
    "- **Timestamp**: Seconds since the Unix epoch\n",
    "- **NormalizedOverall**: Normalized rating on a [0, 1] scale\n",
    "- Each user has rated **at least 20 items**\n",
    "\n",
    "---\n",
    "\n",
    "## 🧪 Goal of This Notebook\n",
    "\n",
    "The objective is to **simulate a random spamming attack** on this dataset. This attack represents a common type of noise or malicious behavior in rating systems, where spammers add non-informative or random feedback.\n",
    "\n",
    "---\n",
    "\n",
    "## 🔥 Attack Model: Random Spamming\n",
    "\n",
    "Each simulated spammer behaves as follows:\n",
    "\n",
    "- **Rating values**: Randomly chosen from a uniform distribution over the rating scale {1, 2, 3, 4, 5}.\n",
    "- **Number of ratings per spammer**: Sampled from a **Poisson distribution** with λ = 20 (then +1 to ensure at least one rating).\n",
    "- **Items rated**: Randomly selected based on the **item popularity distribution** from the real dataset — i.e., more frequently rated items are more likely to be selected.\n",
    "- **Ratings are timestamped** with the current time and normalized.\n",
    "\n",
    "---\n",
    "\n",
    "## ⚙️ Configurable Parameter\n",
    "\n",
    "- Instead of defining a fixed number of spammers, we simulate a **proportion** of the total number of users (e.g., 10% of the total users).\n",
    "\n",
    "This ensures the attack is **scalable and adaptable** to datasets of different sizes.\n",
    "\n",
    "---\n",
    "\n",
    "## 📦 Outcome\n",
    "\n",
    "- The notebook will output:\n",
    "  - The original dataset with **spam ratings injected**.\n",
    "  - A separate DataFrame containing only the spammer ratings.\n",
    "  - Optionally: Save results to disk.\n",
    "\n",
    "---\n",
    "\n",
    "Let's get started! 🚀\n",
    "\n",
    "\n",
    "\n"
   ]
  },
  {
   "cell_type": "markdown",
   "metadata": {},
   "source": [
    "**1. Import**"
   ]
  },
  {
   "cell_type": "code",
   "execution_count": 8,
   "metadata": {},
   "outputs": [],
   "source": [
    "import pandas as pd\n",
    "import numpy as np\n",
    "from datetime import datetime\n",
    "import os"
   ]
  },
  {
   "cell_type": "markdown",
   "metadata": {},
   "source": [
    "**2.Load Dataset**"
   ]
  },
  {
   "cell_type": "code",
   "execution_count": 1,
   "metadata": {},
   "outputs": [],
   "source": [
    "def load_dataset(path=\"ratings.dat\"):\n",
    "    return pd.read_csv(path, sep=\"::\", engine=\"python\", \n",
    "                       names=[\"UserID\", \"MovieID\", \"Rating\", \"Timestamp\", \"NormalizedOverall\"])"
   ]
  },
  {
   "cell_type": "markdown",
   "metadata": {},
   "source": [
    "**3. Item Popularity**"
   ]
  },
  {
   "cell_type": "code",
   "execution_count": 2,
   "metadata": {},
   "outputs": [],
   "source": [
    "def compute_item_popularity(df):\n",
    "    return df[\"MovieID\"].value_counts(normalize=True)"
   ]
  },
  {
   "cell_type": "markdown",
   "metadata": {},
   "source": [
    "**4. Spammer Simulation**"
   ]
  },
  {
   "cell_type": "code",
   "execution_count": 3,
   "metadata": {},
   "outputs": [],
   "source": [
    "def simulate_random_spammers(num_spammers, item_popularity_dist, user_id_start, lambda_poisson=5):\n",
    "    spam_data = []\n",
    "    item_ids = item_popularity_dist.index.tolist()\n",
    "    item_probs = item_popularity_dist.values\n",
    "    max_rating = 5\n",
    "\n",
    "    for i in range(num_spammers):\n",
    "        user_id = user_id_start + i\n",
    "        num_ratings = np.random.poisson(lam=lambda_poisson) + 1\n",
    "        sampled_items = np.random.choice(item_ids, size=num_ratings, replace=False, p=item_probs)\n",
    "\n",
    "        for movie_id in sampled_items:\n",
    "            rating = np.random.randint(1, max_rating + 1)\n",
    "            timestamp = int(datetime.now().timestamp())\n",
    "            normalized = (rating - 1) / (max_rating - 1)\n",
    "            spam_data.append([user_id, movie_id, rating, timestamp, normalized])\n",
    "\n",
    "    return pd.DataFrame(spam_data, columns=[\"UserID\", \"MovieID\", \"Rating\", \"Timestamp\", \"NormalizedOverall\"])"
   ]
  },
  {
   "cell_type": "markdown",
   "metadata": {},
   "source": [
    "**5. Combine Real Data + Spam**"
   ]
  },
  {
   "cell_type": "code",
   "execution_count": 5,
   "metadata": {},
   "outputs": [],
   "source": [
    "def add_spammers_to_dataset(df, spammer_ratio=0.1, lambda_poisson=5):\n",
    "    total_users = df[\"UserID\"].nunique()\n",
    "    num_spammers = int(np.ceil(spammer_ratio * total_users))\n",
    "    item_popularity = compute_item_popularity(df)\n",
    "    user_id_start = df[\"UserID\"].max() + 1\n",
    "    spam_df = simulate_random_spammers(num_spammers, item_popularity, user_id_start, lambda_poisson)\n",
    "    return pd.concat([df, spam_df], ignore_index=True), spam_df\n"
   ]
  },
  {
   "cell_type": "markdown",
   "metadata": {},
   "source": [
    "**6. Generate Multiple CSV's**"
   ]
  },
  {
   "cell_type": "code",
   "execution_count": 4,
   "metadata": {},
   "outputs": [],
   "source": [
    "def generate_spam_datasets(base_df, ratios, lambda_poisson=5, output_dir=\"spam_versions\"):\n",
    "    os.makedirs(output_dir, exist_ok=True)\n",
    "    for ratio in ratios:\n",
    "        combined_df, spam_df = add_spammers_to_dataset(base_df, spammer_ratio=ratio, lambda_poisson=lambda_poisson)\n",
    "        percent = int(ratio * 100)\n",
    "        combined_df.to_csv(f\"{output_dir}/ratings_with_{percent}percent_spam.csv\", index=False)\n",
    "        spam_df.to_csv(f\"{output_dir}/spam_only_{percent}percent.csv\", index=False)\n",
    "        print(f\"✔ Generated {percent}% spam version with {len(spam_df)} fake ratings.\")"
   ]
  },
  {
   "cell_type": "markdown",
   "metadata": {},
   "source": [
    "**7. Main Function**"
   ]
  },
  {
   "cell_type": "code",
   "execution_count": 9,
   "metadata": {},
   "outputs": [
    {
     "name": "stdout",
     "output_type": "stream",
     "text": [
      "✔ Generated 10% spam version with 12517 fake ratings.\n",
      "✔ Generated 30% spam version with 37798 fake ratings.\n",
      "✔ Generated 50% spam version with 63297 fake ratings.\n",
      "✔ Generated 70% spam version with 88807 fake ratings.\n"
     ]
    }
   ],
   "source": [
    "if __name__ == \"__main__\":\n",
    "    df_real = load_dataset(\"/home/martimsbaltazar/Desktop/tese/datasets/ml-1m/normalized_ratings.dat\")\n",
    "\n",
    "    spam_ratios = [0.10, 0.30, 0.50, 0.70]  \n",
    "    generate_spam_datasets(df_real, spam_ratios, lambda_poisson=20)"
   ]
  }
 ],
 "metadata": {
  "kernelspec": {
   "display_name": "Python 3",
   "language": "python",
   "name": "python3"
  },
  "language_info": {
   "codemirror_mode": {
    "name": "ipython",
    "version": 3
   },
   "file_extension": ".py",
   "mimetype": "text/x-python",
   "name": "python",
   "nbconvert_exporter": "python",
   "pygments_lexer": "ipython3",
   "version": "3.12.3"
  }
 },
 "nbformat": 4,
 "nbformat_minor": 2
}
